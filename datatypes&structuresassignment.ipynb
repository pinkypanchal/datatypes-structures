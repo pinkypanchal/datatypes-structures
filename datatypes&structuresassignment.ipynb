{
  "nbformat": 4,
  "nbformat_minor": 0,
  "metadata": {
    "colab": {
      "provenance": []
    },
    "kernelspec": {
      "name": "python3",
      "display_name": "Python 3"
    },
    "language_info": {
      "name": "python"
    }
  },
  "cells": [
    {
      "cell_type": "markdown",
      "source": [
        "#**DATATYPES AND STRUCTURES**"
      ],
      "metadata": {
        "id": "WC4CUIvgGwG4"
      }
    },
    {
      "cell_type": "markdown",
      "source": [
        "##**THEORY:**"
      ],
      "metadata": {
        "id": "JLalY2ZtG2-C"
      }
    },
    {
      "cell_type": "markdown",
      "source": [
        "**1. What are data structures, and why are they important?**\n",
        "  - Data structures are ways of organizing, storing, and managing data in a computer so that it can be used efficiently.\n",
        "  Eg: List [1, 2, 3],Dictionary {\"name\": \"Pinky\"}, Set {1, 2, 3} etc.\n",
        "  - Importance:\n",
        "    - Data structures are organized ways to store and manage data, making programs faster, more efficient, and easier to build. They are essential for solving problems, handling large data, and performing tasks like searching, sorting, and storing information effectively.\n"
      ],
      "metadata": {
        "id": "WpiHR1f9G8EZ"
      }
    },
    {
      "cell_type": "markdown",
      "source": [
        "**2. Explain the difference between mutable and immutable data types with examples.**\n",
        "-  Mutable:\n",
        "  - Can be changed after creation.\n",
        "  - Can modify their content (add, remove, or update elements) without changing the object’s identity (i.e., memory location stays the same).\n",
        "Eg: list, dict, set\n",
        "\n",
        "\n",
        "```\n",
        "my_list = [1, 2, 3]\n",
        "my_list[0] = 10\n",
        "print(my_list)  # Output: [10, 2, 3]\n",
        "\n",
        "```\n",
        "\n",
        "- Immutable:\n",
        "   - Cannot be changed after creation.\n",
        "   - Any operation that seems to change the object actually creates a new object in memory.\n",
        "\n",
        "Eg: int, float, str, tuple\n",
        "\n",
        "\n",
        "```\n",
        "my_str = \"hello\"\n",
        "my_str = my_str + \" world\"  \n",
        "print(my_str)  # Output: \"hello world\"\n",
        "# Creates a new string,the original \"Hello\" string remains unchanged\n",
        "```\n",
        "\n"
      ],
      "metadata": {
        "id": "vQVMm3QTIL1a"
      }
    },
    {
      "cell_type": "markdown",
      "source": [
        "**3.What are the main differences between lists and tuples in Python?**\n",
        "- List in Python:\n",
        "\n",
        "1) Mutable: You can change, add, or remove elements.\n",
        "\n",
        "2) Syntax: Defined using square brackets - [ ]\n",
        "\n",
        "3) Slower than tuples because they are dynamic.\n",
        "\n",
        "4) Uses more memory.\n",
        "\n",
        "5) Has many built-in methods like .append(), .remove(), .sort(), etc.\n",
        "\n",
        "6) Best used when data can change.\n",
        "\n",
        "\n",
        "- Tuple in Python:\n",
        "\n",
        "\n",
        "1) Immutable: Once created, elements cannot be changed.\n",
        "\n",
        "2) Syntax: Defined using round brackets – ( )\n",
        "\n",
        "3) Faster than lists because they’re fixed.\n",
        "\n",
        "4) Uses less memory.\n",
        "\n",
        "5) Has fewer built-in methods (only like .count() and .index()).\n",
        "\n",
        "6) Best used when data should remain constant.\n",
        "\n"
      ],
      "metadata": {
        "id": "eBDWQ3CkJ1-K"
      }
    },
    {
      "cell_type": "markdown",
      "source": [
        "**4.Describe how dictionaries store data.**\n",
        "- A dictionary in Python is a built-in data structure that stores data in the form of key-value pairs. Each value is stored with a unique key, which is used to access that value. It works just like a real-life dictionary, where you look up a word (key) to find its meaning (value).\n",
        "- Eg: in {\"name\": \"Pinky\", \"age\": 24}, \"name\" and \"age\" are keys, and \"Pinky\" and 24 are their corresponding values.\n",
        "- Dictionaries use a special method called hashing to store keys in a way that makes finding values very fast. Keys in a dictionary must be unique and cannot be changed (they must be immutable types like strings, numbers, or tuples), while values can be of any data type. Dictionaries are very useful when you need to quickly look up information or associate one piece of data with another."
      ],
      "metadata": {
        "id": "PvrUbaQ6KzHc"
      }
    },
    {
      "cell_type": "markdown",
      "source": [
        "**5.Why might you use a set instead of a list in Python?**\n",
        "- You use a set when you need to store unique items only and don't care about the order.\n",
        "- Sets automatically remove duplicates and allow for fast checking if an item exists.\n",
        "- They are also faster than lists for membership tests.\n",
        "\n",
        "\n",
        "```\n",
        "my_list = [1, 2, 2, 3]\n",
        "my_set = set(my_list)  # {1, 2, 3}\n",
        "\n",
        "```\n",
        "\n"
      ],
      "metadata": {
        "id": "EqwXIqhELcHd"
      }
    },
    {
      "cell_type": "markdown",
      "source": [
        "**6.What is a string in Python, and how is it different from a list?**\n",
        "- A string is a sequence of characters, like \"Hello\", and is immutable (cannot be changed).\n",
        "- A list is a sequence of elements (numbers, strings, etc.) and is mutable (can be changed).\n",
        "\n",
        "\n",
        "```\n",
        "my_str = \"hello\"\n",
        "my_list = ['h', 'e', 'l', 'l', 'o']\n",
        "\n",
        "# Strings can't be changed directly\n",
        "# my_str[0] = 'H' →Error\n",
        "\n",
        "# Lists can be changed\n",
        "my_list[0] = 'H'  \n",
        "\n",
        "```\n",
        "\n"
      ],
      "metadata": {
        "id": "tqia-KxrL4z3"
      }
    },
    {
      "cell_type": "markdown",
      "source": [
        "**7.How do tuples ensure data integrity in Python?**\n",
        "- Tuples are immutable, meaning once you create them, you can’t change, add, or remove elements.\n",
        "- This protects the data from accidental changes, ensuring its safety and integrity, especially when passing it between functions or storing fixed information.\n",
        "- user_data = (\"Pinky\", 24)  # Cannot be changed accidentally\n"
      ],
      "metadata": {
        "id": "0Hz9YUqSM3N-"
      }
    },
    {
      "cell_type": "markdown",
      "source": [
        "**8. What is a hash table, and how does it relate to dictionaries in Python?**\n",
        "- A hash table is a data structure that stores data using a key → hash → value system.\n",
        "- In Python, a dictionary is implemented using a hash table.\n",
        "When you access my_dict[\"name\"], Python uses a hash function to find where \"name\" is stored and returns its value quickly.\n",
        "- Benefits: Fast lookups, inserts, and deletions — usually in constant time O(1)."
      ],
      "metadata": {
        "id": "Olz6RZkZPYW4"
      }
    },
    {
      "cell_type": "markdown",
      "source": [
        "**9.Can lists contain different data types in Python?**\n",
        "- Yes, in Python, a list can contain elements of different data types. This means a list can hold integers, strings, floats, booleans, or even other lists and objects all at once. This flexibility makes lists very powerful and easy to use for mixed data storage.\n",
        "\n",
        "\n",
        "```\n",
        "my_list = [10, \"hello\", 3.14, True]\n",
        "\n",
        "```\n",
        "\n"
      ],
      "metadata": {
        "id": "lY1vYZb7PnPc"
      }
    },
    {
      "cell_type": "markdown",
      "source": [
        "**10. Why are strings immutable in Python?**\n",
        "- Strings are immutable in Python to make them secure, memory-efficient, and thread-safe. Once a string is created, it cannot be changed. If you try to modify it, Python creates a new string in memory. This helps avoid unexpected changes, especially when the same string is used in multiple places in a program.\n",
        "\n"
      ],
      "metadata": {
        "id": "27Hno3OoP7bR"
      }
    },
    {
      "cell_type": "markdown",
      "source": [
        "**11.What advantages do dictionaries offer over lists for certain tasks?**\n",
        "- Dictionaries provide fast access to values using keys, while lists require searching through indexes. If you want to store and look up data by a specific name or label (like a username, ID, etc.), dictionaries are much faster and more organized than lists. They are ideal for mapping one value to another.\n",
        "\n",
        "\n",
        "```\n",
        "students = {\"Pinky\": 90, \"Rahul\": 85}\n",
        "\n",
        "```\n",
        "\n"
      ],
      "metadata": {
        "id": "d65oK0NrQDvE"
      }
    },
    {
      "cell_type": "markdown",
      "source": [
        "**12.When is a tuple better than a list?**\n",
        "- Use a tuple when your data should not change like a fixed set of values such as coordinates, dates, or settings. Tuples are also faster and use less memory than lists. For example, you can use a tuple to store a user's birthdate since it won’t change.\n",
        "\n",
        "\n",
        "```\n",
        "birthdate = (1999, 12, 15)\n",
        "\n",
        "```\n",
        "\n"
      ],
      "metadata": {
        "id": "rv1uknrCQP5i"
      }
    },
    {
      "cell_type": "markdown",
      "source": [
        "**13. How do sets handle duplicate values in Python?**\n",
        "- Sets automatically remove duplicate values. When you add items to a set, Python only keeps unique ones. This makes sets perfect for storing non-repeating data like unique names, IDs, or words.\n",
        "\n",
        "\n",
        "```\n",
        "my_set = {1, 2, 2, 3}  # Output: {1, 2, 3}\n",
        "\n",
        "```\n",
        "\n"
      ],
      "metadata": {
        "id": "KnxNfUWXQbUq"
      }
    },
    {
      "cell_type": "markdown",
      "source": [
        "**14.  How does the “in” keyword work differently for lists and dictionaries?**\n",
        "- In lists, the in keyword checks whether a value exists in the list. In dictionaries, in checks if a key exists,not the value. So if you write x in my_dict, Python looks for x among the keys, not the values.\n",
        "\n",
        "\n",
        "```\n",
        "my_list = [1, 2, 3]\n",
        "print(2 in my_list)  #True (value check)\n",
        "\n",
        "my_dict = {\"a\": 1, \"b\": 2}\n",
        "print(\"a\" in my_dict)  #True (key check)\n",
        "print(2 in my_dict)    #False (values aren't checked)\n",
        "\n",
        "```\n",
        "\n"
      ],
      "metadata": {
        "id": "0bIXh1kRQkK_"
      }
    },
    {
      "cell_type": "markdown",
      "source": [
        "**15.Can you modify the elements of a tuple? Why or why not?**\n",
        "- No, you cannot modify elements of a tuple because tuples are immutable. Once a tuple is created, its contents are fixed and cannot be changed, added to, or removed. This immutability ensures data safety, especially when passing data that should not be altered."
      ],
      "metadata": {
        "id": "gPmKbgRERA9d"
      }
    },
    {
      "cell_type": "markdown",
      "source": [
        "**16.What is a nested dictionary? Give an example.**\n",
        "- A nested dictionary is a dictionary where values are themselves dictionaries. This structure is used to store hierarchical or structured data, like student records, JSON data, or configuration files.\n",
        "\n",
        "\n",
        "```\n",
        "student = {\"name\": \"Pinky\",\n",
        "  \"marks\": {\"math\": 90, \"science\": 88}}\n",
        "print(student[\"marks\"][\"science\"])  # Output: 88\n",
        "\n",
        "```\n",
        "\n"
      ],
      "metadata": {
        "id": "_A5OH7IxRI73"
      }
    },
    {
      "cell_type": "markdown",
      "source": [
        "**17.What is the time complexity of accessing elements in a dictionary?**\n",
        "- Accessing elements in a dictionary has an average time complexity of O(1) — constant time — due to its hash table implementation. This means you can retrieve values very quickly using keys, regardless of the dictionary’s size."
      ],
      "metadata": {
        "id": "BaZeCZDYRVbV"
      }
    },
    {
      "cell_type": "markdown",
      "source": [
        "**18.When are lists preferred over dictionaries?**\n",
        "- Lists are preferred when:\n",
        "\n",
        " - You need to maintain order of items\n",
        "\n",
        "  - You don’t need key-value mapping\n",
        "\n",
        "  - You want to store simple sequences like numbers or names\n",
        "\n",
        "  - You want to use indexing (e.g., list[0]) to access elements"
      ],
      "metadata": {
        "id": "xpi3TPRTRf3P"
      }
    },
    {
      "cell_type": "markdown",
      "source": [
        "**19. Why are dictionaries considered unordered, and how does that affect data retrieval?**\n",
        "- Before Python 3.7, dictionaries were unordered, meaning items had no fixed position you couldn’t rely on the insertion order. From Python 3.7+, dictionaries preserve insertion order, but they are still accessed by key, not position, so their retrieval depends on key-based hashing, not order."
      ],
      "metadata": {
        "id": "yqAVkH6qRQqn"
      }
    },
    {
      "cell_type": "markdown",
      "source": [
        "**20. Difference between a list and a dictionary in terms of data retrieval.**\n",
        "- In a list, you  can retrieve data using index positions (e.g., list[0])\n",
        "\n",
        "- In a dictionary, you can retrieve data using keys (e.g., dict[\"name\"])\n",
        "\n",
        "---> Dictionaries are better when you need label-based access, and lists are better when you need position-based access."
      ],
      "metadata": {
        "id": "FKA8xZTQR6nn"
      }
    },
    {
      "cell_type": "markdown",
      "source": [
        "##**PRACTICAL QUESTIONS:**\n"
      ],
      "metadata": {
        "id": "28BeORfGR29b"
      }
    },
    {
      "cell_type": "markdown",
      "source": [
        "**1. Write a code to create a string with your name and print it.**"
      ],
      "metadata": {
        "id": "oBVqxthgSYMB"
      }
    },
    {
      "cell_type": "code",
      "source": [
        "name = \"Pinky\"\n",
        "print(name)\n"
      ],
      "metadata": {
        "colab": {
          "base_uri": "https://localhost:8080/"
        },
        "id": "MxFUfvZCTbeR",
        "outputId": "d0e52505-d8b9-478a-d007-eca7c4d019fb"
      },
      "execution_count": 1,
      "outputs": [
        {
          "output_type": "stream",
          "name": "stdout",
          "text": [
            "Pinky\n"
          ]
        }
      ]
    },
    {
      "cell_type": "markdown",
      "source": [
        "**2. Write a code to find the length of the string \"Hello World\".**"
      ],
      "metadata": {
        "id": "Ml-xFnMGMKQi"
      }
    },
    {
      "cell_type": "code",
      "source": [
        "text = \"Hello World\"\n",
        "print(len(text))\n"
      ],
      "metadata": {
        "colab": {
          "base_uri": "https://localhost:8080/"
        },
        "id": "t0rDLh6dToS0",
        "outputId": "d9afb85b-1593-43f1-812c-ee566053fab3"
      },
      "execution_count": 2,
      "outputs": [
        {
          "output_type": "stream",
          "name": "stdout",
          "text": [
            "11\n"
          ]
        }
      ]
    },
    {
      "cell_type": "markdown",
      "source": [
        "**3.Write a code to slice the first 3 characters from the string \"Python Programming\".**"
      ],
      "metadata": {
        "id": "vPsvFqk_Tsrk"
      }
    },
    {
      "cell_type": "code",
      "source": [
        "string1 = \"Python Programming\"\n",
        "print(string1[:3])\n"
      ],
      "metadata": {
        "colab": {
          "base_uri": "https://localhost:8080/"
        },
        "id": "azDdwRuXTrrV",
        "outputId": "acddb070-8a54-4025-aed3-d0ad138eb57d"
      },
      "execution_count": 4,
      "outputs": [
        {
          "output_type": "stream",
          "name": "stdout",
          "text": [
            "Pyt\n"
          ]
        }
      ]
    },
    {
      "cell_type": "markdown",
      "source": [
        "**4.Write a code to convert the string \"hello\" to uppercase.**"
      ],
      "metadata": {
        "id": "2FqYHhcpT8Rn"
      }
    },
    {
      "cell_type": "code",
      "source": [
        "word = \"hello\"\n",
        "print(word.upper())\n"
      ],
      "metadata": {
        "colab": {
          "base_uri": "https://localhost:8080/"
        },
        "id": "9T7Di_8nTzgX",
        "outputId": "8cb83643-3d86-4c63-99eb-a24ad95a489e"
      },
      "execution_count": 5,
      "outputs": [
        {
          "output_type": "stream",
          "name": "stdout",
          "text": [
            "HELLO\n"
          ]
        }
      ]
    },
    {
      "cell_type": "markdown",
      "source": [
        "**5. Write a code to replace the word \"apple\" with \"orange\" in the string \"I like apple\".**"
      ],
      "metadata": {
        "id": "3Ykif4omUF-z"
      }
    },
    {
      "cell_type": "code",
      "source": [
        "sentence = \"I like apple\"\n",
        "new_sentence = sentence.replace(\"apple\", \"orange\")\n",
        "print(new_sentence)\n"
      ],
      "metadata": {
        "colab": {
          "base_uri": "https://localhost:8080/"
        },
        "id": "3ue4AlYzUE7B",
        "outputId": "57e9dddb-791e-4583-d083-f8bc830ffc27"
      },
      "execution_count": 7,
      "outputs": [
        {
          "output_type": "stream",
          "name": "stdout",
          "text": [
            "I like orange\n"
          ]
        }
      ]
    },
    {
      "cell_type": "markdown",
      "source": [
        "**6.Write a code to create a list with numbers 1 to 5 and print it.**"
      ],
      "metadata": {
        "id": "Zm5qufbRUTCA"
      }
    },
    {
      "cell_type": "code",
      "source": [
        "numbers = [1, 2, 3, 4, 5]\n",
        "print(numbers)\n"
      ],
      "metadata": {
        "colab": {
          "base_uri": "https://localhost:8080/"
        },
        "id": "XNVGILOPURfE",
        "outputId": "ac7e3d90-1425-4cfe-8048-911ea95a15de"
      },
      "execution_count": 8,
      "outputs": [
        {
          "output_type": "stream",
          "name": "stdout",
          "text": [
            "[1, 2, 3, 4, 5]\n"
          ]
        }
      ]
    },
    {
      "cell_type": "markdown",
      "source": [
        "**7.Write a code to append the number 10 to the list [1, 2, 3, 4].**"
      ],
      "metadata": {
        "id": "fzwNynffUavk"
      }
    },
    {
      "cell_type": "code",
      "source": [
        "my_list = [1, 2, 3, 4]\n",
        "my_list.append(10)\n",
        "print(my_list)\n"
      ],
      "metadata": {
        "colab": {
          "base_uri": "https://localhost:8080/"
        },
        "id": "o7DyWqdsUaB0",
        "outputId": "4ad80a3a-2a89-4b19-a32e-d694742a886f"
      },
      "execution_count": 9,
      "outputs": [
        {
          "output_type": "stream",
          "name": "stdout",
          "text": [
            "[1, 2, 3, 4, 10]\n"
          ]
        }
      ]
    },
    {
      "cell_type": "markdown",
      "source": [
        "**8.Write a code to remove the number 3 from the list [1, 2, 3, 4, 5].**"
      ],
      "metadata": {
        "id": "GcFun9NpUklw"
      }
    },
    {
      "cell_type": "code",
      "source": [
        "my_list = [1, 2, 3, 4, 5]\n",
        "my_list.remove(3)\n",
        "print(my_list)\n"
      ],
      "metadata": {
        "colab": {
          "base_uri": "https://localhost:8080/"
        },
        "id": "x5X8hqZRUjxW",
        "outputId": "01d307d9-27b2-40d3-9660-02b8f6236fe3"
      },
      "execution_count": 10,
      "outputs": [
        {
          "output_type": "stream",
          "name": "stdout",
          "text": [
            "[1, 2, 4, 5]\n"
          ]
        }
      ]
    },
    {
      "cell_type": "markdown",
      "source": [
        "**9.Write a code to access the second element in the list ['a', 'b', 'c', 'd'].**"
      ],
      "metadata": {
        "id": "xHcq-JiDUsHx"
      }
    },
    {
      "cell_type": "code",
      "source": [
        "letters = ['a', 'b', 'c', 'd']\n",
        "print(letters[1])  # Index starts from 0\n"
      ],
      "metadata": {
        "colab": {
          "base_uri": "https://localhost:8080/"
        },
        "id": "yxZ2W-tmUrVD",
        "outputId": "4adbd576-57e5-4283-a7e6-7c137bf1ab0b"
      },
      "execution_count": 11,
      "outputs": [
        {
          "output_type": "stream",
          "name": "stdout",
          "text": [
            "b\n"
          ]
        }
      ]
    },
    {
      "cell_type": "markdown",
      "source": [
        "**10.Write a code to reverse the list [10, 20, 30, 40, 50].**"
      ],
      "metadata": {
        "id": "kbFhcxJIU0mZ"
      }
    },
    {
      "cell_type": "code",
      "source": [
        "my_list = [10, 20, 30, 40, 50]\n",
        "my_list.reverse()\n",
        "print(my_list)\n"
      ],
      "metadata": {
        "colab": {
          "base_uri": "https://localhost:8080/"
        },
        "id": "AUClE1REUzyE",
        "outputId": "6eaef164-2500-47d7-a27a-05adb84433ef"
      },
      "execution_count": 12,
      "outputs": [
        {
          "output_type": "stream",
          "name": "stdout",
          "text": [
            "[50, 40, 30, 20, 10]\n"
          ]
        }
      ]
    },
    {
      "cell_type": "markdown",
      "source": [
        "**11.Write a code to create a tuple with the elements 100, 200, 300 and print it.**"
      ],
      "metadata": {
        "id": "a3RcgCTNU9XR"
      }
    },
    {
      "cell_type": "code",
      "source": [
        "my_tuple = (100, 200, 300)\n",
        "print(my_tuple)\n"
      ],
      "metadata": {
        "colab": {
          "base_uri": "https://localhost:8080/"
        },
        "id": "9H_V4jjyVIU6",
        "outputId": "3bd5261f-e939-4084-9c71-5feb10428c13"
      },
      "execution_count": 13,
      "outputs": [
        {
          "output_type": "stream",
          "name": "stdout",
          "text": [
            "(100, 200, 300)\n"
          ]
        }
      ]
    },
    {
      "cell_type": "markdown",
      "source": [
        "**12.Write a code to access the second-to-last element of the tuple ('red', 'green', 'blue', 'yellow').**"
      ],
      "metadata": {
        "id": "DrXUEKk5VNFd"
      }
    },
    {
      "cell_type": "code",
      "source": [
        "colors = ('red', 'green', 'blue', 'yellow')\n",
        "print(colors[-2])"
      ],
      "metadata": {
        "colab": {
          "base_uri": "https://localhost:8080/"
        },
        "id": "84IaeI4mVTGy",
        "outputId": "3e5d11d5-792a-4e92-c4bb-cacf42e1f417"
      },
      "execution_count": 14,
      "outputs": [
        {
          "output_type": "stream",
          "name": "stdout",
          "text": [
            "blue\n"
          ]
        }
      ]
    },
    {
      "cell_type": "markdown",
      "source": [
        "**13.Write a code to find the minimum number in the tuple (10, 20, 5, 15).**"
      ],
      "metadata": {
        "id": "n6k21ETxVeOG"
      }
    },
    {
      "cell_type": "code",
      "source": [
        "numbers = (10, 20, 5, 15)\n",
        "print(min(numbers))\n"
      ],
      "metadata": {
        "colab": {
          "base_uri": "https://localhost:8080/"
        },
        "id": "VRfmFDSiVLe3",
        "outputId": "fced68e8-b8f3-408d-d247-821cfdd4da45"
      },
      "execution_count": 15,
      "outputs": [
        {
          "output_type": "stream",
          "name": "stdout",
          "text": [
            "5\n"
          ]
        }
      ]
    },
    {
      "cell_type": "markdown",
      "source": [
        "**14. Write a code to find the index of the element \"cat\" in the tuple ('dog', 'cat', 'rabbit').**"
      ],
      "metadata": {
        "id": "h6AV1OiGV4Gf"
      }
    },
    {
      "cell_type": "code",
      "source": [
        "animals = ('dog', 'cat', 'rabbit')\n",
        "print(animals.index(\"cat\"))\n"
      ],
      "metadata": {
        "colab": {
          "base_uri": "https://localhost:8080/"
        },
        "id": "MQvZNJ0uVsdS",
        "outputId": "0c5bcb29-c4db-4435-dc75-25bedbbf0063"
      },
      "execution_count": 16,
      "outputs": [
        {
          "output_type": "stream",
          "name": "stdout",
          "text": [
            "1\n"
          ]
        }
      ]
    },
    {
      "cell_type": "markdown",
      "source": [
        "**15.Write a code to create a tuple containing three different fruits and check if \"kiwi\" is in it.**"
      ],
      "metadata": {
        "id": "N3r_mkV-WWmC"
      }
    },
    {
      "cell_type": "code",
      "source": [
        "fruits = (\"apple\", \"banana\", \"mango\")\n",
        "print(\"kiwi\" in fruits)"
      ],
      "metadata": {
        "colab": {
          "base_uri": "https://localhost:8080/"
        },
        "id": "Ef4KX-URWT4s",
        "outputId": "979e4736-4c1c-433f-da87-243459b84d89"
      },
      "execution_count": 17,
      "outputs": [
        {
          "output_type": "stream",
          "name": "stdout",
          "text": [
            "False\n"
          ]
        }
      ]
    },
    {
      "cell_type": "markdown",
      "source": [
        "**16. Write a code to create a set with the elements 'a', 'b', 'c' and print it.**"
      ],
      "metadata": {
        "id": "ZPH_rIDOWtbt"
      }
    },
    {
      "cell_type": "code",
      "source": [
        "my_set = {'a', 'b', 'c'}\n",
        "print(my_set)\n"
      ],
      "metadata": {
        "colab": {
          "base_uri": "https://localhost:8080/"
        },
        "id": "SnzL2u6sW9uP",
        "outputId": "d20ef99d-ffda-4219-a8a0-8cb791b22e01"
      },
      "execution_count": 18,
      "outputs": [
        {
          "output_type": "stream",
          "name": "stdout",
          "text": [
            "{'a', 'b', 'c'}\n"
          ]
        }
      ]
    },
    {
      "cell_type": "markdown",
      "source": [
        "**17. Write a code to clear all elements from the set {1, 2, 3, 4, 5}.**\n"
      ],
      "metadata": {
        "id": "ngrUc8TVWrvi"
      }
    },
    {
      "cell_type": "code",
      "source": [
        "my_set = {1, 2, 3, 4, 5}\n",
        "my_set.clear()\n",
        "print(my_set)\n"
      ],
      "metadata": {
        "colab": {
          "base_uri": "https://localhost:8080/"
        },
        "id": "hh4NZfBfXHtb",
        "outputId": "563df903-0d93-42ea-b023-3272c238bcd6"
      },
      "execution_count": 19,
      "outputs": [
        {
          "output_type": "stream",
          "name": "stdout",
          "text": [
            "set()\n"
          ]
        }
      ]
    },
    {
      "cell_type": "markdown",
      "source": [
        "**18.Write a code to remove the element 4 from the set {1, 2, 3, 4}.**"
      ],
      "metadata": {
        "id": "ErxDO1FMXNff"
      }
    },
    {
      "cell_type": "code",
      "source": [
        "my_set = {1, 2, 3, 4}\n",
        "my_set.remove(4)\n",
        "print(my_set)\n"
      ],
      "metadata": {
        "colab": {
          "base_uri": "https://localhost:8080/"
        },
        "id": "k9qEuYi_XMy_",
        "outputId": "1594b15e-3c80-49f1-98f7-f1e4d5dc5821"
      },
      "execution_count": 20,
      "outputs": [
        {
          "output_type": "stream",
          "name": "stdout",
          "text": [
            "{1, 2, 3}\n"
          ]
        }
      ]
    },
    {
      "cell_type": "markdown",
      "source": [
        "**19.Write a code to find the union of two sets {1, 2, 3} and {3, 4, 5}.**"
      ],
      "metadata": {
        "id": "m7KQDzk1XXFP"
      }
    },
    {
      "cell_type": "code",
      "source": [
        "set1 = {1, 2, 3}\n",
        "set2 = {3, 4, 5}\n",
        "union_set = set1.union(set2)\n",
        "print(union_set)"
      ],
      "metadata": {
        "colab": {
          "base_uri": "https://localhost:8080/"
        },
        "id": "OaZajPeuXVre",
        "outputId": "839689f8-1688-4dd9-8192-d5cd941b367d"
      },
      "execution_count": 21,
      "outputs": [
        {
          "output_type": "stream",
          "name": "stdout",
          "text": [
            "{1, 2, 3, 4, 5}\n"
          ]
        }
      ]
    },
    {
      "cell_type": "markdown",
      "source": [
        "**20.Write a code to find the intersection of two sets {1, 2, 3} and {2, 3, 4}.**"
      ],
      "metadata": {
        "id": "ohPaf0syXlxQ"
      }
    },
    {
      "cell_type": "code",
      "source": [
        "set1 = {1, 2, 3}\n",
        "set2 = {2, 3, 4}\n",
        "intersection_set = set1.intersection(set2)\n",
        "print(intersection_set)"
      ],
      "metadata": {
        "colab": {
          "base_uri": "https://localhost:8080/"
        },
        "id": "5R412SNuXkZV",
        "outputId": "3e72021b-6679-48ea-d699-4023aacbd7c6"
      },
      "execution_count": 22,
      "outputs": [
        {
          "output_type": "stream",
          "name": "stdout",
          "text": [
            "{2, 3}\n"
          ]
        }
      ]
    },
    {
      "cell_type": "markdown",
      "source": [
        "**21.Write a code to create a dictionary with the keys \"name\", \"age\", and \"city\", and print it.**"
      ],
      "metadata": {
        "id": "nHpwVTIMX1s6"
      }
    },
    {
      "cell_type": "code",
      "source": [
        "my_dict = {\"name\": \"Pinky\", \"age\": 24, \"city\": \"bengaluru\"}\n",
        "print(my_dict)\n"
      ],
      "metadata": {
        "colab": {
          "base_uri": "https://localhost:8080/"
        },
        "id": "mRhW01qKXvcb",
        "outputId": "c59992ca-a935-4c52-f409-8e5d1140329e"
      },
      "execution_count": 24,
      "outputs": [
        {
          "output_type": "stream",
          "name": "stdout",
          "text": [
            "{'name': 'Pinky', 'age': 24, 'city': 'bengaluru'}\n"
          ]
        }
      ]
    },
    {
      "cell_type": "markdown",
      "source": [
        "**22.Write a code to add a new key-value pair \"country\": \"USA\" to the dictionary {'name': 'John', 'age': 25}.**"
      ],
      "metadata": {
        "id": "LK578G06YMPL"
      }
    },
    {
      "cell_type": "code",
      "source": [
        "person = {'name': 'John', 'age': 25}\n",
        "person[\"country\"] = \"USA\"\n",
        "print(person)\n"
      ],
      "metadata": {
        "colab": {
          "base_uri": "https://localhost:8080/"
        },
        "id": "NU83TpodYFmb",
        "outputId": "31804db8-6184-489f-ff89-4fd6c725ef92"
      },
      "execution_count": 27,
      "outputs": [
        {
          "output_type": "stream",
          "name": "stdout",
          "text": [
            "{'name': 'John', 'age': 25, 'country': 'USA'}\n"
          ]
        }
      ]
    },
    {
      "cell_type": "markdown",
      "source": [
        "**23.Write a code to access the value associated with the key \"name\" in the dictionary {'name': 'Alice', 'age': 30}.**"
      ],
      "metadata": {
        "id": "pYWGJa4gYgHx"
      }
    },
    {
      "cell_type": "code",
      "source": [
        "person = {'name': 'Alice', 'age': 30}\n",
        "print(person[\"name\"])\n"
      ],
      "metadata": {
        "colab": {
          "base_uri": "https://localhost:8080/"
        },
        "id": "E-SAybK0YVBQ",
        "outputId": "8955a0b9-ca83-4369-d0e0-9e5edb3f4c7a"
      },
      "execution_count": 28,
      "outputs": [
        {
          "output_type": "stream",
          "name": "stdout",
          "text": [
            "Alice\n"
          ]
        }
      ]
    },
    {
      "cell_type": "markdown",
      "source": [
        "**24. Write a code to remove the key \"age\" from the dictionary {'name': 'Bob', 'age': 22, 'city': 'New York'}.**"
      ],
      "metadata": {
        "id": "cLZPtNKRYpCf"
      }
    },
    {
      "cell_type": "code",
      "source": [
        "person = {'name': 'Bob', 'age': 22, 'city': 'New York'}\n",
        "person.pop(\"age\")\n",
        "print(person)"
      ],
      "metadata": {
        "colab": {
          "base_uri": "https://localhost:8080/"
        },
        "id": "lIPlYM3EYn54",
        "outputId": "dd38216a-66d7-4a52-e50e-eb88e4613933"
      },
      "execution_count": 29,
      "outputs": [
        {
          "output_type": "stream",
          "name": "stdout",
          "text": [
            "{'name': 'Bob', 'city': 'New York'}\n"
          ]
        }
      ]
    },
    {
      "cell_type": "markdown",
      "source": [
        "**25.Write a code to check if the key \"city\" exists in the dictionary {'name': 'Alice', 'city': 'Paris'}.**"
      ],
      "metadata": {
        "id": "t5MDsG-iY1AR"
      }
    },
    {
      "cell_type": "code",
      "source": [
        "person = {'name': 'Alice', 'city': 'Paris'}\n",
        "print(\"city\" in person)\n"
      ],
      "metadata": {
        "colab": {
          "base_uri": "https://localhost:8080/"
        },
        "id": "3Js29TxqY0Is",
        "outputId": "cfb13b10-c2c7-4bae-dfca-20742f641f83"
      },
      "execution_count": 30,
      "outputs": [
        {
          "output_type": "stream",
          "name": "stdout",
          "text": [
            "True\n"
          ]
        }
      ]
    },
    {
      "cell_type": "markdown",
      "source": [
        "**26. Write a code to create a list, a tuple, and a dictionary, and print them all.**"
      ],
      "metadata": {
        "id": "WN-IlrUQY9WW"
      }
    },
    {
      "cell_type": "code",
      "source": [
        "my_list = [1, 2, 3]\n",
        "my_tuple = (4, 5, 6)\n",
        "my_dict = {\"a\": 10, \"b\": 20}\n",
        "\n",
        "print(\"List:\", my_list)\n",
        "print(\"Tuple:\", my_tuple)\n",
        "print(\"Dictionary:\", my_dict)\n"
      ],
      "metadata": {
        "colab": {
          "base_uri": "https://localhost:8080/"
        },
        "id": "aFPe4HeSY8Pa",
        "outputId": "ed12e51a-b3a5-4b71-8765-cf5673c58553"
      },
      "execution_count": 31,
      "outputs": [
        {
          "output_type": "stream",
          "name": "stdout",
          "text": [
            "List: [1, 2, 3]\n",
            "Tuple: (4, 5, 6)\n",
            "Dictionary: {'a': 10, 'b': 20}\n"
          ]
        }
      ]
    },
    {
      "cell_type": "markdown",
      "source": [
        "**27.Write a code to create a list of 5 random numbers between 1 and 100, sort it in ascending order, and print the result.(replaced)**"
      ],
      "metadata": {
        "id": "wRHzEGkrZHNp"
      }
    },
    {
      "cell_type": "code",
      "source": [
        "numbers = [45, 12, 89, 23, 67]\n",
        "numbers.sort()\n",
        "print(numbers)\n"
      ],
      "metadata": {
        "colab": {
          "base_uri": "https://localhost:8080/"
        },
        "id": "UTApIp6pZPe9",
        "outputId": "82b43b06-e184-4672-fc0d-970053111703"
      },
      "execution_count": 33,
      "outputs": [
        {
          "output_type": "stream",
          "name": "stdout",
          "text": [
            "[12, 23, 45, 67, 89]\n"
          ]
        }
      ]
    },
    {
      "cell_type": "markdown",
      "source": [
        "**28. Write a code to create a list with strings and print the element at the third index.**"
      ],
      "metadata": {
        "id": "TkW3PnLoZaqf"
      }
    },
    {
      "cell_type": "code",
      "source": [
        "words = [\"apple\", \"banana\", \"cherry\", \"date\", \"fig\"]\n",
        "print(words[3])"
      ],
      "metadata": {
        "colab": {
          "base_uri": "https://localhost:8080/"
        },
        "id": "UdfIU5vpZZ0j",
        "outputId": "20dd5c39-648a-43dc-d984-60cf2e7686af"
      },
      "execution_count": 34,
      "outputs": [
        {
          "output_type": "stream",
          "name": "stdout",
          "text": [
            "date\n"
          ]
        }
      ]
    },
    {
      "cell_type": "markdown",
      "source": [
        "**29.Write a code to combine two dictionaries into one and print the result.**"
      ],
      "metadata": {
        "id": "YRzbMQ-2Zi_F"
      }
    },
    {
      "cell_type": "code",
      "source": [
        "dict1 = {\"a\": 1, \"b\": 2}\n",
        "dict2 = {\"c\": 3, \"d\": 4}\n",
        "combined = {**dict1, **dict2}\n",
        "print(combined)\n"
      ],
      "metadata": {
        "colab": {
          "base_uri": "https://localhost:8080/"
        },
        "id": "RevjzHmDZpGm",
        "outputId": "6061d1da-d494-41bf-cb71-1717de5da02f"
      },
      "execution_count": 36,
      "outputs": [
        {
          "output_type": "stream",
          "name": "stdout",
          "text": [
            "{'a': 1, 'b': 2, 'c': 3, 'd': 4}\n"
          ]
        }
      ]
    },
    {
      "cell_type": "markdown",
      "source": [
        "**30.Write a code to convert a list of strings into a set.**"
      ],
      "metadata": {
        "id": "Vu1Ga7VSZ5hD"
      }
    },
    {
      "cell_type": "code",
      "source": [
        "fruits = [\"apple\", \"banana\", \"apple\", \"mango\"]\n",
        "fruit_set = set(fruits)\n",
        "print(fruit_set)\n"
      ],
      "metadata": {
        "colab": {
          "base_uri": "https://localhost:8080/"
        },
        "id": "s9rByc2EZvFd",
        "outputId": "b2e0a08d-3e74-448e-ef28-0a4f066d8889"
      },
      "execution_count": 37,
      "outputs": [
        {
          "output_type": "stream",
          "name": "stdout",
          "text": [
            "{'banana', 'mango', 'apple'}\n"
          ]
        }
      ]
    },
    {
      "cell_type": "code",
      "source": [],
      "metadata": {
        "id": "yuO_2axMaC9f"
      },
      "execution_count": null,
      "outputs": []
    }
  ]
}